{
 "cells": [
  {
   "cell_type": "markdown",
   "id": "25d7736c-ba17-4aff-b6bb-66eba20fbf4e",
   "metadata": {
    "id": "25d7736c-ba17-4aff-b6bb-66eba20fbf4e"
   },
   "source": [
    "# Lab | Data Structuring and Combining Data"
   ]
  },
  {
   "cell_type": "markdown",
   "id": "a2cdfc70-44c8-478c-81e7-2bc43fdf4986",
   "metadata": {
    "id": "a2cdfc70-44c8-478c-81e7-2bc43fdf4986"
   },
   "source": [
    "## Challenge 1: Combining & Cleaning Data\n",
    "\n",
    "In this challenge, we will be working with the customer data from an insurance company, as we did in the two previous labs. The data can be found here:\n",
    "- https://raw.githubusercontent.com/data-bootcamp-v4/data/main/file1.csv\n",
    "\n",
    "But this time, we got new data, which can be found in the following 2 CSV files located at the links below.\n",
    "\n",
    "- https://raw.githubusercontent.com/data-bootcamp-v4/data/main/file2.csv\n",
    "- https://raw.githubusercontent.com/data-bootcamp-v4/data/main/file3.csv\n",
    "\n",
    "Note that you'll need to clean and format the new data.\n",
    "\n",
    "Observation:\n",
    "- One option is to first combine the three datasets and then apply the cleaning function to the new combined dataset\n",
    "- Another option would be to read the clean file you saved in the previous lab, and just clean the two new files and concatenate the three clean datasets"
   ]
  },
  {
   "cell_type": "code",
   "execution_count": 71,
   "id": "492d06e3-92c7-4105-ac72-536db98d3244",
   "metadata": {
    "id": "492d06e3-92c7-4105-ac72-536db98d3244"
   },
   "outputs": [],
   "source": [
    "import pandas as pd\n",
    "\n",
    "df1 = pd.read_csv(\"https://raw.githubusercontent.com/data-bootcamp-v4/data/main/file1.csv\")\n",
    "df2 = pd.read_csv(\"https://raw.githubusercontent.com/data-bootcamp-v4/data/main/file2.csv\")\n",
    "df3 = pd.read_csv(\"https://raw.githubusercontent.com/data-bootcamp-v4/data/main/file3.csv\")\n",
    "\n",
    "df_combined = pd.concat([df1, df2, df3], ignore_index=True)\n",
    "\n"
   ]
  },
  {
   "cell_type": "code",
   "execution_count": 75,
   "id": "726241c9-be12-4fa2-b62e-b0d0fe69f6dd",
   "metadata": {},
   "outputs": [],
   "source": [
    "import pandas as pd\n",
    "import numpy as np\n",
    "\n",
    "def clean_data(df):\n",
    "    df.columns = df.columns.str.strip().str.lower().str.replace(' ', '_')\n",
    "    \n",
    "    if 'st' in df.columns:\n",
    "        df = df.rename(columns={'st': 'state'})\n",
    "    \n",
    "    df = df.loc[:, ~df.columns.duplicated()]\n",
    "    \n",
    "    if 'gender' in df.columns:\n",
    "        df['gender'] = df['gender'].astype(str).str.strip().str.lower().map({\n",
    "            'f': 'F', 'female': 'F', 'femal': 'F',\n",
    "            'm': 'M', 'male': 'M'\n",
    "        })\n",
    "        df['gender'] = df['gender'].fillna('Unknown')\n",
    "    \n",
    "    if 'state' in df.columns:\n",
    "        df['state'] = df['state'].astype(str).str.strip().str.lower().replace({\n",
    "            'az': 'arizona',\n",
    "            'cali': 'california',\n",
    "            'wa': 'washington'\n",
    "        }).str.title()\n",
    "    \n",
    "    if 'education' in df.columns:\n",
    "        df['education'] = df['education'].astype(str).str.strip().replace({'Bachelors': 'Bachelor'})\n",
    "    \n",
    "    if 'customer_lifetime_value' in df.columns:\n",
    "        if df['customer_lifetime_value'].dtype == object:\n",
    "            df['customer_lifetime_value'] = df['customer_lifetime_value'].str.replace('%', '', regex=False)\n",
    "        df['customer_lifetime_value'] = pd.to_numeric(df['customer_lifetime_value'], errors='coerce')\n",
    "    \n",
    "    if 'number_of_open_complaints' in df.columns:\n",
    "        def extract_middle(val):\n",
    "            if isinstance(val, str) and '/' in val:\n",
    "                parts = val.split('/')\n",
    "                if len(parts) > 1:\n",
    "                    try:\n",
    "                        return int(parts[1])\n",
    "                    except:\n",
    "                        return np.nan\n",
    "            try:\n",
    "                return int(val)\n",
    "            except:\n",
    "                return np.nan\n",
    "        df['number_of_open_complaints'] = df['number_of_open_complaints'].apply(extract_middle)\n",
    "    \n",
    "    if 'vehicle_class' in df.columns:\n",
    "        df['vehicle_class'] = df['vehicle_class'].replace({\n",
    "            'Luxury SUV': 'Luxury',\n",
    "            'Luxury Car': 'Luxury',\n",
    "            'Sports Car': 'Luxury'\n",
    "        })\n",
    "    \n",
    "    # 9. Handle missing values\n",
    "    # Fill customer_lifetime_value missing with median\n",
    "    if 'customer_lifetime_value' in df.columns:\n",
    "        median_val = df['customer_lifetime_value'].median()\n",
    "        df['customer_lifetime_value'] = df['customer_lifetime_value'].fillna(median_val)\n",
    "    \n",
    "    # Fill missing number_of_open_complaints with 0 (or another strategy)\n",
    "    if 'number_of_open_complaints' in df.columns:\n",
    "        df['number_of_open_complaints'] = df['number_of_open_complaints'].fillna(0).astype(int)\n",
    "    \n",
    "    # 10. Drop rows where all values are null\n",
    "    df = df.dropna(how='all')\n",
    "    \n",
    "    # 11. Drop duplicate rows and reset index\n",
    "    df = df.drop_duplicates().reset_index(drop=True)\n",
    "    \n",
    "    # 12. Convert all numeric columns to integers where possible\n",
    "    num_cols = df.select_dtypes(include=['float', 'int']).columns\n",
    "    df[num_cols] = df[num_cols].round().astype('Int64')  # 'Int64' allows for NA in int columns\n",
    "    \n",
    "    return df\n"
   ]
  },
  {
   "cell_type": "code",
   "execution_count": 77,
   "id": "a5368418-8c3d-42b6-a20c-768e46f6283a",
   "metadata": {},
   "outputs": [],
   "source": [
    "df_clean = clean_data(df_combined)\n",
    "\n",
    "\n"
   ]
  },
  {
   "cell_type": "markdown",
   "id": "31b8a9e7-7db9-4604-991b-ef6771603e57",
   "metadata": {
    "id": "31b8a9e7-7db9-4604-991b-ef6771603e57"
   },
   "source": [
    "# Challenge 2: Structuring Data"
   ]
  },
  {
   "cell_type": "markdown",
   "id": "a877fd6d-7a0c-46d2-9657-f25036e4ca4b",
   "metadata": {
    "id": "a877fd6d-7a0c-46d2-9657-f25036e4ca4b"
   },
   "source": [
    "In this challenge, we will continue to work with customer data from an insurance company, but we will use a dataset with more columns, called marketing_customer_analysis.csv, which can be found at the following link:\n",
    "\n",
    "https://raw.githubusercontent.com/data-bootcamp-v4/data/main/marketing_customer_analysis_clean.csv\n",
    "\n",
    "This dataset contains information such as customer demographics, policy details, vehicle information, and the customer's response to the last marketing campaign. Our goal is to explore and analyze this data by performing data cleaning, formatting, and structuring."
   ]
  },
  {
   "cell_type": "code",
   "execution_count": 79,
   "id": "aa10d9b0-1c27-4d3f-a8e4-db6ab73bfd26",
   "metadata": {
    "id": "aa10d9b0-1c27-4d3f-a8e4-db6ab73bfd26"
   },
   "outputs": [],
   "source": [
    "import pandas as pd\n",
    "\n",
    "url = \"https://raw.githubusercontent.com/data-bootcamp-v4/data/main/marketing_customer_analysis_clean.csv\"\n",
    "df = pd.read_csv(url)"
   ]
  },
  {
   "cell_type": "code",
   "execution_count": 81,
   "id": "0d37ce99-1647-4446-bdb9-2bb540eee7fe",
   "metadata": {},
   "outputs": [
    {
     "name": "stdout",
     "output_type": "stream",
     "text": [
      "Index(['unnamed:_0', 'customer', 'state', 'customer_lifetime_value',\n",
      "       'response', 'coverage', 'education', 'effective_to_date',\n",
      "       'employmentstatus', 'gender', 'income', 'location_code',\n",
      "       'marital_status', 'monthly_premium_auto', 'months_since_last_claim',\n",
      "       'months_since_policy_inception', 'number_of_open_complaints',\n",
      "       'number_of_policies', 'policy_type', 'policy', 'renew_offer_type',\n",
      "       'sales_channel', 'total_claim_amount', 'vehicle_class', 'vehicle_size',\n",
      "       'vehicle_type', 'month'],\n",
      "      dtype='object')\n"
     ]
    }
   ],
   "source": [
    "print(df.columns)\n"
   ]
  },
  {
   "cell_type": "code",
   "execution_count": 83,
   "id": "4693220a-5505-4fdd-b261-974c50811434",
   "metadata": {},
   "outputs": [
    {
     "name": "stdout",
     "output_type": "stream",
     "text": [
      "               customer_lifetime_value\n",
      "sales_channel                         \n",
      "Agent                      33057887.85\n",
      "Branch                     24359201.21\n",
      "Call Center                17364288.37\n",
      "Web                        12697632.90\n"
     ]
    }
   ],
   "source": [
    "# Assuming 'customer_lifetime_value' is the revenue column\n",
    "pivot_revenue = df.pivot_table(\n",
    "    values='customer_lifetime_value',\n",
    "    index='sales_channel',\n",
    "    aggfunc='sum'\n",
    ").round(2)\n",
    "\n",
    "print(pivot_revenue)"
   ]
  },
  {
   "cell_type": "code",
   "execution_count": null,
   "id": "5756ff24-1843-4c31-9cb7-240130dcd725",
   "metadata": {},
   "outputs": [],
   "source": [
    "# The Agent channel brings in the most revenue by far, about $33 million. Branch does well too, but Call Center and Web lag behind. It makes sense to focus on Agents for now"
   ]
  },
  {
   "cell_type": "code",
   "execution_count": 85,
   "id": "024f4076-6aef-4855-9497-73078a92b848",
   "metadata": {
    "scrolled": true
   },
   "outputs": [
    {
     "name": "stdout",
     "output_type": "stream",
     "text": [
      "education  Bachelor  College   Doctor  High School or Below   Master\n",
      "gender                                                              \n",
      "F           7874.27  7748.82  7328.51               8675.22  8157.05\n",
      "M           7703.60  8052.46  7415.33               8149.69  8168.83\n"
     ]
    }
   ],
   "source": [
    "pivot = df.pivot_table(\n",
    "    index='gender',\n",
    "    columns='education',\n",
    "    values='customer_lifetime_value',\n",
    "    aggfunc='mean'\n",
    ").round(2)\n",
    "\n",
    "print(pivot)"
   ]
  },
  {
   "cell_type": "code",
   "execution_count": null,
   "id": "7f586b5d-ddb5-448f-a364-8688afa8bb4c",
   "metadata": {},
   "outputs": [],
   "source": [
    "# The average customer lifetime value by gender and education shows that customers with higher education have similar or higher values. Females with \"High School or Below\" have the highest value, while males with a Master’s degree lead. Education impacts value, but gender differences are small. Marketing by education level could improve results.\n",
    "\n",
    "\n",
    "\n",
    "\n",
    "\n",
    "\n",
    "\n",
    "\n"
   ]
  },
  {
   "cell_type": "markdown",
   "id": "df35fd0d-513e-4e77-867e-429da10a9cc7",
   "metadata": {
    "id": "df35fd0d-513e-4e77-867e-429da10a9cc7"
   },
   "source": [
    "1. You work at the marketing department and you want to know which sales channel brought the most sales in terms of total revenue. Using pivot, create a summary table showing the total revenue for each sales channel (branch, call center, web, and mail).\n",
    "Round the total revenue to 2 decimal points.  Analyze the resulting table to draw insights.\n",
    "\n",
    "\n",
    "\n"
   ]
  },
  {
   "cell_type": "markdown",
   "id": "640993b2-a291-436c-a34d-a551144f8196",
   "metadata": {
    "id": "640993b2-a291-436c-a34d-a551144f8196"
   },
   "source": [
    "2. Create a pivot table that shows the average customer lifetime value per gender and education level. Analyze the resulting table to draw insights.\n"
   ]
  },
  {
   "cell_type": "markdown",
   "id": "32c7f2e5-3d90-43e5-be33-9781b6069198",
   "metadata": {
    "id": "32c7f2e5-3d90-43e5-be33-9781b6069198"
   },
   "source": [
    "## Bonus\n",
    "\n",
    "You work at the customer service department and you want to know which months had the highest number of complaints by policy type category. Create a summary table showing the number of complaints by policy type and month.\n",
    "Show it in a long format table."
   ]
  },
  {
   "cell_type": "markdown",
   "id": "e3d09a8f-953c-448a-a5f8-2e5a8cca7291",
   "metadata": {
    "id": "e3d09a8f-953c-448a-a5f8-2e5a8cca7291"
   },
   "source": [
    "*In data analysis, a long format table is a way of structuring data in which each observation or measurement is stored in a separate row of the table. The key characteristic of a long format table is that each column represents a single variable, and each row represents a single observation of that variable.*\n",
    "\n",
    "*More information about long and wide format tables here: https://www.statology.org/long-vs-wide-data/*"
   ]
  },
  {
   "cell_type": "code",
   "execution_count": null,
   "id": "3a069e0b-b400-470e-904d-d17582191be4",
   "metadata": {
    "id": "3a069e0b-b400-470e-904d-d17582191be4"
   },
   "outputs": [],
   "source": [
    "# Your code goes here"
   ]
  }
 ],
 "metadata": {
  "colab": {
   "provenance": []
  },
  "kernelspec": {
   "display_name": "Python [conda env:base] *",
   "language": "python",
   "name": "conda-base-py"
  },
  "language_info": {
   "codemirror_mode": {
    "name": "ipython",
    "version": 3
   },
   "file_extension": ".py",
   "mimetype": "text/x-python",
   "name": "python",
   "nbconvert_exporter": "python",
   "pygments_lexer": "ipython3",
   "version": "3.12.7"
  }
 },
 "nbformat": 4,
 "nbformat_minor": 5
}
